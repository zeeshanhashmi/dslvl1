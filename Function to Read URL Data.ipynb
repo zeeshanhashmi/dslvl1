{
 "cells": [
  {
   "cell_type": "code",
   "execution_count": 1,
   "id": "9c44518e",
   "metadata": {},
   "outputs": [],
   "source": [
    "url = \"https://en.wikipedia.org/wiki/List_of_helicopter_prison_escapes\"\n",
    "import pandas as pd"
   ]
  },
  {
   "cell_type": "code",
   "execution_count": 2,
   "id": "fa8b0ac5",
   "metadata": {},
   "outputs": [],
   "source": [
    "l = pd.read_html(url)"
   ]
  },
  {
   "cell_type": "code",
   "execution_count": 4,
   "id": "252354ac",
   "metadata": {},
   "outputs": [],
   "source": [
    "df = l[1]\n",
    "prison = df.to_numpy().tolist()"
   ]
  },
  {
   "cell_type": "code",
   "execution_count": 6,
   "id": "838fa364",
   "metadata": {},
   "outputs": [],
   "source": [
    "def freq_table (data, index):\n",
    "    freq = {} \n",
    "    \n",
    "    for row in data:\n",
    "        k = row[index]\n",
    "        if k not in freq:\n",
    "            freq[k] = 1\n",
    "        else:\n",
    "            freq[k] += 1\n",
    "    \n",
    "    return freq"
   ]
  },
  {
   "cell_type": "code",
   "execution_count": 7,
   "id": "e0fe0042",
   "metadata": {},
   "outputs": [],
   "source": [
    "unique_st = []\n",
    "\n",
    "for row in prison:\n",
    "    suc_att = row[3]\n",
    "    if suc_att not in unique_st:\n",
    "        unique_st.append(suc_att)"
   ]
  },
  {
   "cell_type": "code",
   "execution_count": 14,
   "id": "6caddbff",
   "metadata": {},
   "outputs": [],
   "source": [
    "freq_tst = {}\n",
    "\n",
    "for s in unique_st:\n",
    "    st_ic = {}\n",
    "    \n",
    "    for row in prison:\n",
    "        cont = row[2]\n",
    "        suc_att = row[3]\n",
    "        if suc_att == s:\n",
    "            if cont in st_ic.keys():\n",
    "                st_ic[cont] = st_ic[cont]+1 \n",
    "            else:\n",
    "                st_ic[cont] = 1\n",
    "        \n",
    "            freq_tst[suc_att] = st_ic"
   ]
  },
  {
   "cell_type": "code",
   "execution_count": 15,
   "id": "38a83872",
   "metadata": {},
   "outputs": [
    {
     "data": {
      "text/plain": [
       "{'Yes': {'Mexico': 1,\n",
       "  'Ireland': 1,\n",
       "  'France': 11,\n",
       "  'United States': 6,\n",
       "  'Brazil': 2,\n",
       "  'Italy': 1,\n",
       "  'United Kingdom': 1,\n",
       "  'Canada': 3,\n",
       "  'Puerto Rico': 1,\n",
       "  'Chile': 1,\n",
       "  'Australia': 1,\n",
       "  'Greece': 2,\n",
       "  'Belgium': 2,\n",
       "  'Russia': 1},\n",
       " 'No': {'United States': 2,\n",
       "  'Canada': 1,\n",
       "  'Australia': 1,\n",
       "  'France': 4,\n",
       "  'Netherlands': 1,\n",
       "  'Belgium': 2,\n",
       "  'United Kingdom': 1,\n",
       "  'Greece': 2}}"
      ]
     },
     "execution_count": 15,
     "metadata": {},
     "output_type": "execute_result"
    }
   ],
   "source": [
    "freq_tst"
   ]
  },
  {
   "cell_type": "code",
   "execution_count": 16,
   "id": "ddfdbd0c",
   "metadata": {},
   "outputs": [
    {
     "data": {
      "text/plain": [
       "['Yes', 'No']"
      ]
     },
     "execution_count": 16,
     "metadata": {},
     "output_type": "execute_result"
    }
   ],
   "source": [
    "unique_st"
   ]
  },
  {
   "cell_type": "code",
   "execution_count": 27,
   "id": "884cede7",
   "metadata": {},
   "outputs": [],
   "source": [
    "def freq_table_st (data, index, st_index):\n",
    "\n",
    "    unique_st = []\n",
    "    freq_tst = {}\n",
    "    \n",
    "    for row in data:\n",
    "        chkData = row[st_index]\n",
    "        if chkData not in unique_st:\n",
    "            unique_st.append(chkData)\n",
    "\n",
    "    for st in unique_st:\n",
    "        statsDict = {}\n",
    "\n",
    "        for row in data:\n",
    "            key = row[index]\n",
    "            chkData = row[st_index]\n",
    "            if chkData == st:\n",
    "                if key in statsDict.keys():\n",
    "                    statsDict[key] = statsDict[key]+1 \n",
    "                else:\n",
    "                    statsDict[key] = 1\n",
    "\n",
    "                freq_tst[chkData] = statsDict\n",
    "    return freq_tst             "
   ]
  },
  {
   "cell_type": "code",
   "execution_count": 31,
   "id": "90e232fb",
   "metadata": {},
   "outputs": [],
   "source": [
    "for i in prison:\n",
    "    year = i[0][-4:]\n",
    "    i.append(year)\n",
    "\n"
   ]
  },
  {
   "cell_type": "code",
   "execution_count": 33,
   "id": "a522dbe0",
   "metadata": {},
   "outputs": [
    {
     "data": {
      "text/plain": [
       "{'1971': {'Mexico': 1},\n",
       " '1973': {'Ireland': 1},\n",
       " '1978': {'United States': 1},\n",
       " '1981': {'France': 1, 'Canada': 1},\n",
       " '1983': {'Australia': 1},\n",
       " '1985': {'United States': 1, 'Brazil': 1},\n",
       " '1986': {'France': 1, 'United States': 1, 'Italy': 1},\n",
       " '1987': {'United Kingdom': 1},\n",
       " '1988': {'United States': 1},\n",
       " '1989': {'United States': 2},\n",
       " '1990': {'Canada': 1},\n",
       " '1991': {'Puerto Rico': 1},\n",
       " '1992': {'France': 2},\n",
       " '1993': {'France': 1},\n",
       " '1996': {'Chile': 1},\n",
       " '1997': {'Netherlands': 1},\n",
       " '1999': {'Australia': 1},\n",
       " '2000': {'United States': 1, 'France': 1},\n",
       " '2001': {'France': 3},\n",
       " '2002': {'Brazil': 1, 'United States': 1},\n",
       " '2003': {'France': 1},\n",
       " '2005': {'France': 2},\n",
       " '2006': {'Greece': 1},\n",
       " '2007': {'Belgium': 2, 'France': 1},\n",
       " '2009': {'Greece': 1, 'France': 1, 'Belgium': 1},\n",
       " '2010': {'United Kingdom': 1},\n",
       " '2012': {'Russia': 1},\n",
       " '2013': {'Greece': 1, 'Canada': 1},\n",
       " '2014': {'Canada': 1},\n",
       " '2016': {'Greece': 1},\n",
       " '2018': {'France': 1},\n",
       " '2020': {'Belgium': 1}}"
      ]
     },
     "execution_count": 33,
     "metadata": {},
     "output_type": "execute_result"
    }
   ],
   "source": [
    "freq_table_st (prison, 2, 6)"
   ]
  },
  {
   "cell_type": "code",
   "execution_count": null,
   "id": "42825778",
   "metadata": {},
   "outputs": [],
   "source": []
  }
 ],
 "metadata": {
  "kernelspec": {
   "display_name": "Python 3 (ipykernel)",
   "language": "python",
   "name": "python3"
  },
  "language_info": {
   "codemirror_mode": {
    "name": "ipython",
    "version": 3
   },
   "file_extension": ".py",
   "mimetype": "text/x-python",
   "name": "python",
   "nbconvert_exporter": "python",
   "pygments_lexer": "ipython3",
   "version": "3.9.12"
  }
 },
 "nbformat": 4,
 "nbformat_minor": 5
}
